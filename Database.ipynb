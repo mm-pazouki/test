{
 "cells": [
  {
   "cell_type": "code",
   "execution_count": 1,
   "id": "78eefe43",
   "metadata": {},
   "outputs": [],
   "source": [
    "from tkinter import *\n",
    "from PIL import ImageTk, Image\n",
    "import sqlite3"
   ]
  },
  {
   "cell_type": "code",
   "execution_count": 2,
   "id": "e499ec34",
   "metadata": {},
   "outputs": [
    {
     "data": {
      "text/plain": [
       "''"
      ]
     },
     "execution_count": 2,
     "metadata": {},
     "output_type": "execute_result"
    }
   ],
   "source": [
    "root = Tk()\n",
    "root.title(\"Database\")\n",
    "root.iconbitmap('D:/Essential Things/Work/ZLATAN3/8.9.20/ZLATAN3/ZLATAN3/icons/BackgroundLogoBlack.png')\n",
    "root.geometry(\"400x400\")"
   ]
  },
  {
   "cell_type": "code",
   "execution_count": 3,
   "id": "a52fd4a6",
   "metadata": {},
   "outputs": [],
   "source": [
    "#create a database or connect to other one\n",
    "conn = sqlite3.connect('address_book.db')"
   ]
  },
  {
   "cell_type": "code",
   "execution_count": 4,
   "id": "c660f2a5",
   "metadata": {},
   "outputs": [],
   "source": [
    "#create cursor\n",
    "c = conn.cursor()"
   ]
  },
  {
   "cell_type": "code",
   "execution_count": 5,
   "id": "376b25d5",
   "metadata": {},
   "outputs": [
    {
     "data": {
      "text/plain": [
       "'\\nc.execute(\"\"\"CREATE TABLE addresses (\\n        first_name text, \\n        last_name text,\\n        address text,\\n        city text,\\n        state text,\\n        zipcode integer\\n        )\"\"\")\\n'"
      ]
     },
     "execution_count": 5,
     "metadata": {},
     "output_type": "execute_result"
    }
   ],
   "source": [
    "'''\n",
    "c.execute(\"\"\"CREATE TABLE addresses (\n",
    "        first_name text, \n",
    "        last_name text,\n",
    "        address text,\n",
    "        city text,\n",
    "        state text,\n",
    "        zipcode integer\n",
    "        )\"\"\")\n",
    "'''"
   ]
  },
  {
   "cell_type": "code",
   "execution_count": 6,
   "id": "cc5ba35a",
   "metadata": {},
   "outputs": [],
   "source": [
    "def submit():\n",
    "    \n",
    "    #create a database or connect to other one\n",
    "    conn = sqlite3.connect('address_book.db')   \n",
    "    #create cursor\n",
    "    c = conn.cursor()\n",
    "    \n",
    "    record_id = select_ID.get()\n",
    "    #Update into table\n",
    "    if record_id:\n",
    "        c.execute(\"\"\"UPDATE addresses SET\n",
    "        first_name = :f_name,\n",
    "        last_name = :l_name,\n",
    "        address = :address,\n",
    "        city = :city,\n",
    "        state = :state,\n",
    "        zipcode = :zipcode\n",
    "        \n",
    "        WHERE oid = :oid\"\"\",\n",
    "        {'f_name':f_name.get(),\n",
    "         'l_name':l_name.get(),\n",
    "         'address':address.get(),\n",
    "         'city':city.get(),\n",
    "         'state':state.get(),\n",
    "         'zipcode':zipcode.get(),\n",
    "         'oid':record_id\n",
    "        })     \n",
    "\n",
    "    #Insert into table    \n",
    "    else:\n",
    "        c.execute(\"INSERT INTO addresses VALUES (:f_name, :l_name, :address, :city, :state, :zipcode)\",\n",
    "                 {\n",
    "                     'f_name':f_name.get(),\n",
    "                     'l_name':l_name.get(),\n",
    "                     'address':address.get(),\n",
    "                     'city':city.get(),\n",
    "                     'state':state.get(),\n",
    "                     'zipcode':zipcode.get()\n",
    "                 })\n",
    "    \n",
    "    #commit changes\n",
    "    conn.commit()\n",
    "    #close connection\n",
    "    conn.close()\n",
    "    \n",
    "    #clear text boxes\n",
    "    f_name.delete(0, END)\n",
    "    l_name.delete(0, END)\n",
    "    address.delete(0, END)\n",
    "    city.delete(0, END)\n",
    "    state.delete(0, END)\n",
    "    zipcode.delete(0, END)\n",
    "    select_ID.delete(0, END)"
   ]
  },
  {
   "cell_type": "code",
   "execution_count": 8,
   "id": "6bc4982e",
   "metadata": {},
   "outputs": [],
   "source": [
    "#Delete query\n",
    "def delete():\n",
    "    #create a database or connect to other one\n",
    "    conn = sqlite3.connect('address_book.db')   \n",
    "    #create cursor\n",
    "    c = conn.cursor()\n",
    "    \n",
    "    #delete a record\n",
    "    c.execute(\"DELETE FROM addresses WHERE  oid = \" + select_ID.get())\n",
    "    #clear text boxes\n",
    "    f_name.delete(0, END)\n",
    "    l_name.delete(0, END)\n",
    "    address.delete(0, END)\n",
    "    city.delete(0, END)\n",
    "    state.delete(0, END)\n",
    "    zipcode.delete(0, END)\n",
    "    select_ID.delete(0, END)\n",
    "    \n",
    "    #commit changes\n",
    "    conn.commit()\n",
    "    #close connection\n",
    "    conn.close()  "
   ]
  },
  {
   "cell_type": "code",
   "execution_count": 9,
   "id": "46ec4533",
   "metadata": {},
   "outputs": [],
   "source": [
    "def query():\n",
    "    #create a database or connect to other one\n",
    "    conn = sqlite3.connect('address_book.db')   \n",
    "    #create cursor\n",
    "    c = conn.cursor()\n",
    "    \n",
    "    #show selected ID record\n",
    "    record_id = select_ID.get()\n",
    "    if record_id:\n",
    "    \n",
    "        c.execute(\"SELECT *,oid FROM addresses WHERE oid =\" + record_id)\n",
    "        records = c.fetchall()\n",
    "        #clear text boxes\n",
    "        f_name.delete(0, END)\n",
    "        l_name.delete(0, END)\n",
    "        address.delete(0, END)\n",
    "        city.delete(0, END)\n",
    "        state.delete(0, END)\n",
    "        zipcode.delete(0, END)\n",
    "        select_ID.delete(0, END)\n",
    "        #loop thru results\n",
    "        for record in records:\n",
    "            f_name.insert(0, record[0])\n",
    "            l_name.insert(0, record[1])\n",
    "            address.insert(0, record[2])\n",
    "            city.insert(0, record[3])\n",
    "            state.insert(0, record[4])\n",
    "            zipcode.insert(0, record[5])\n",
    "            select_ID.insert(0, record[6])\n",
    "          \n",
    "    else:\n",
    "        #show records\n",
    "        c.execute(\"SELECT *,oid FROM addresses\")\n",
    "        #fetchall fetchmany(any number) fetchone\n",
    "        records = c.fetchall()\n",
    "        #loop thru results\n",
    "        print_records = ''\n",
    "        for record in records:\n",
    "            print_records += str(record[-1]) + \" \" + str(record[0]) + \" \" + str(record[1]) + \"\\n\"\n",
    "\n",
    "        query_label = Label(root, text = print_records)\n",
    "        query_label.grid(row = 10, column = 0, columnspan = 2)\n",
    "        \n",
    "        #clear text boxes\n",
    "        f_name.delete(0, END)\n",
    "        l_name.delete(0, END)\n",
    "        address.delete(0, END)\n",
    "        city.delete(0, END)\n",
    "        state.delete(0, END)\n",
    "        zipcode.delete(0, END)\n",
    "        select_ID.delete(0, END)\n",
    "    \n",
    "    #commit changes\n",
    "    conn.commit()\n",
    "    #close connection\n",
    "    conn.close()   "
   ]
  },
  {
   "cell_type": "code",
   "execution_count": 10,
   "id": "ffdfec85",
   "metadata": {},
   "outputs": [],
   "source": [
    "#create text boxes\n",
    "f_name = Entry(root, width = 30)\n",
    "f_name.grid(row = 0, column = 1, padx = 20, pady = (10,0))\n",
    "l_name = Entry(root, width = 30)\n",
    "l_name.grid(row = 1, column = 1)\n",
    "address = Entry(root, width = 30)\n",
    "address.grid(row = 2, column = 1)\n",
    "city = Entry(root, width = 30)\n",
    "city.grid(row = 3, column = 1)\n",
    "state = Entry(root, width = 30)\n",
    "state.grid(row = 4, column = 1)\n",
    "zipcode = Entry(root, width = 30)\n",
    "zipcode.grid(row = 5, column = 1)\n",
    "select_ID = Entry(root, width = 30)\n",
    "select_ID.grid(row = 8, column = 1)"
   ]
  },
  {
   "cell_type": "code",
   "execution_count": 11,
   "id": "eee2929d",
   "metadata": {},
   "outputs": [],
   "source": [
    "#create label for text boxes\n",
    "f_name_label = Label(root, text = \"First Name\")\n",
    "f_name_label.grid(row = 0, column = 0, pady = (10,0))\n",
    "l_name_label = Label(root, text = \"Last Name\")\n",
    "l_name_label.grid(row = 1, column = 0)\n",
    "address_label = Label(root, text = \"Address\")\n",
    "address_label.grid(row = 2, column = 0)\n",
    "city_label = Label(root, text = \"City\")\n",
    "city_label.grid(row = 3, column = 0)\n",
    "state_label = Label(root, text = \"State\")\n",
    "state_label.grid(row = 4, column = 0)\n",
    "zipcode_label = Label(root, text = \"Zipcode\")\n",
    "zipcode_label.grid(row = 5, column = 0)\n",
    "select_ID_label = Label(root, text = \"Select ID\")\n",
    "select_ID_label.grid(row = 8, column = 0)"
   ]
  },
  {
   "cell_type": "code",
   "execution_count": 12,
   "id": "1f92547c",
   "metadata": {},
   "outputs": [],
   "source": [
    "#submit button\n",
    "submit_button = Button(root, text = \"Save\", command = submit)\n",
    "submit_button.grid(row = 7, column = 0, columnspan = 1, pady = 10, padx = 10, ipadx = 50)"
   ]
  },
  {
   "cell_type": "code",
   "execution_count": 13,
   "id": "489f2271",
   "metadata": {},
   "outputs": [],
   "source": [
    "#show records\n",
    "query_button = Button(root, text = \"Show Records\", command = query)\n",
    "query_button.grid(row = 9, column = 1, columnspan = 1, pady = 10, padx = 10, ipadx = 50)"
   ]
  },
  {
   "cell_type": "code",
   "execution_count": 14,
   "id": "29a50886",
   "metadata": {},
   "outputs": [],
   "source": [
    "#delet button\n",
    "delete_button = Button(root, text = \"Delete\", command = delete)\n",
    "delete_button.grid(row = 7, column = 1, columnspan = 1, pady = 10, padx = 10, ipadx = 50)"
   ]
  },
  {
   "cell_type": "code",
   "execution_count": 15,
   "id": "cecf9ef4",
   "metadata": {},
   "outputs": [],
   "source": [
    "#commit changes\n",
    "conn.commit()"
   ]
  },
  {
   "cell_type": "code",
   "execution_count": 16,
   "id": "802c391c",
   "metadata": {},
   "outputs": [],
   "source": [
    "#close connection\n",
    "conn.close()"
   ]
  },
  {
   "cell_type": "code",
   "execution_count": 17,
   "id": "35383d97",
   "metadata": {},
   "outputs": [
    {
     "name": "stderr",
     "output_type": "stream",
     "text": [
      "Exception in Tkinter callback\n",
      "Traceback (most recent call last):\n",
      "  File \"C:\\Users\\mm_pa\\.conda\\envs\\pytorch\\lib\\tkinter\\__init__.py\", line 1892, in __call__\n",
      "    return self.func(*args)\n",
      "  File \"<ipython-input-8-7e2d4a6cfcae>\", line 9, in delete\n",
      "    c.execute(\"DELETE FROM addresses WHERE  oid = \" + select_ID.get())\n",
      "sqlite3.OperationalError: incomplete input\n",
      "Exception in Tkinter callback\n",
      "Traceback (most recent call last):\n",
      "  File \"C:\\Users\\mm_pa\\.conda\\envs\\pytorch\\lib\\tkinter\\__init__.py\", line 1892, in __call__\n",
      "    return self.func(*args)\n",
      "  File \"<ipython-input-8-7e2d4a6cfcae>\", line 9, in delete\n",
      "    c.execute(\"DELETE FROM addresses WHERE  oid = \" + select_ID.get())\n",
      "sqlite3.OperationalError: incomplete input\n"
     ]
    }
   ],
   "source": [
    "root.mainloop()"
   ]
  },
  {
   "cell_type": "code",
   "execution_count": 1,
   "id": "06b62a2b",
   "metadata": {},
   "outputs": [
    {
     "name": "stdout",
     "output_type": "stream",
     "text": [
      "Requirement already satisfied: game in c:\\users\\mm_pa\\.conda\\envs\\pytorch\\lib\\site-packages (0.0.5)\n"
     ]
    }
   ],
   "source": []
  },
  {
   "cell_type": "code",
   "execution_count": null,
   "id": "c85e9d74",
   "metadata": {},
   "outputs": [],
   "source": []
  }
 ],
 "metadata": {
  "kernelspec": {
   "display_name": "Python 3",
   "language": "python",
   "name": "python3"
  },
  "language_info": {
   "codemirror_mode": {
    "name": "ipython",
    "version": 3
   },
   "file_extension": ".py",
   "mimetype": "text/x-python",
   "name": "python",
   "nbconvert_exporter": "python",
   "pygments_lexer": "ipython3",
   "version": "3.8.10"
  }
 },
 "nbformat": 4,
 "nbformat_minor": 5
}
