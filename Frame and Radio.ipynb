{
 "cells": [
  {
   "cell_type": "code",
   "execution_count": 1,
   "id": "e9e707ca",
   "metadata": {},
   "outputs": [],
   "source": [
    "from tkinter import *\n",
    "from PIL import ImageTk, Image"
   ]
  },
  {
   "cell_type": "code",
   "execution_count": 2,
   "id": "a4343c82",
   "metadata": {},
   "outputs": [
    {
     "data": {
      "text/plain": [
       "''"
      ]
     },
     "execution_count": 2,
     "metadata": {},
     "output_type": "execute_result"
    }
   ],
   "source": [
    "root = Tk()\n",
    "root.title(\"Frame\")\n",
    "root.iconbitmap('D:/Essential Things/Work/ZLATAN3/8.9.20/ZLATAN3/ZLATAN3/icons/BackgroundLogoBlack.png')"
   ]
  },
  {
   "cell_type": "code",
   "execution_count": 3,
   "id": "ad25a45b",
   "metadata": {},
   "outputs": [],
   "source": [
    "option = StringVar()\n",
    "pizza = StringVar()\n",
    "option.set(\"1\")\n",
    "pizza.set(\"Peperoni\")"
   ]
  },
  {
   "cell_type": "code",
   "execution_count": 4,
   "id": "ac73ffdc",
   "metadata": {},
   "outputs": [],
   "source": [
    "MODES = [\n",
    "    (\"Peperoni\", \"Peperoni\"),\n",
    "    (\"Cheese\", \"Cheese\"),\n",
    "    (\"Mushroom\", \"Mushroom\"),\n",
    "    (\"Onion\", \"Onion\")\n",
    "]"
   ]
  },
  {
   "cell_type": "code",
   "execution_count": 5,
   "id": "ff8aae18",
   "metadata": {},
   "outputs": [],
   "source": [
    "def clicked(value):\n",
    "    myLabel = Label(root, text = value).pack()"
   ]
  },
  {
   "cell_type": "code",
   "execution_count": 6,
   "id": "00ae8cb1",
   "metadata": {},
   "outputs": [],
   "source": [
    "frame = LabelFrame(root, text = \"This is my frame\", padx = 50, pady = 50)\n",
    "frame.pack(padx = 10, pady = 10)"
   ]
  },
  {
   "cell_type": "code",
   "execution_count": 7,
   "id": "3e28f274",
   "metadata": {},
   "outputs": [],
   "source": [
    "b = Button(frame, text = \"Don't click here\", command = lambda: clicked(pizza.get()))\n",
    "b.grid(row = 0, column = 0)"
   ]
  },
  {
   "cell_type": "code",
   "execution_count": 8,
   "id": "9931830b",
   "metadata": {},
   "outputs": [],
   "source": [
    "Radiobutton(root, text = \"Oprion1\", variable = option, value = \"1\").pack()\n",
    "Radiobutton(root, text = \"Oprion2\", variable = option, value = \"2\").pack()\n",
    "for text, mode in MODES:\n",
    "    Radiobutton(frame, text = text, variable = pizza, value = mode).grid()"
   ]
  },
  {
   "cell_type": "code",
   "execution_count": 9,
   "id": "5dfedff2",
   "metadata": {},
   "outputs": [],
   "source": [
    "Button(root, text = \"click here\", command = lambda: clicked(option.get())).pack()"
   ]
  },
  {
   "cell_type": "code",
   "execution_count": 10,
   "id": "b006dbf1",
   "metadata": {},
   "outputs": [],
   "source": [
    "root.mainloop()"
   ]
  }
 ],
 "metadata": {
  "kernelspec": {
   "display_name": "Python 3",
   "language": "python",
   "name": "python3"
  },
  "language_info": {
   "codemirror_mode": {
    "name": "ipython",
    "version": 3
   },
   "file_extension": ".py",
   "mimetype": "text/x-python",
   "name": "python",
   "nbconvert_exporter": "python",
   "pygments_lexer": "ipython3",
   "version": "3.8.10"
  }
 },
 "nbformat": 4,
 "nbformat_minor": 5
}
