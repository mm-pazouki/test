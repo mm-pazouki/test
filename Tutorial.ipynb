{
 "cells": [
  {
   "cell_type": "code",
   "execution_count": 2,
   "id": "60b0fb02",
   "metadata": {},
   "outputs": [
    {
     "name": "stdout",
     "output_type": "stream",
     "text": [
      "SHOWER LIBS \n",
      " Welcome to the Mad Libs \n",
      " Advice for the MOM to be\n"
     ]
    }
   ],
   "source": [
    "print(\"SHOWER LIBS \\n Welcome to the Mad Libs \\n Advice for the MOM to be\")"
   ]
  },
  {
   "cell_type": "code",
   "execution_count": 7,
   "id": "5e84de9a",
   "metadata": {},
   "outputs": [
    {
     "name": "stdout",
     "output_type": "stream",
     "text": [
      "Please enter a namemamad\n",
      "Please enter a number1\n",
      "My name is mamad and I've known Meaghan for 1 years.\n"
     ]
    }
   ],
   "source": [
    "name = input(\"Please enter a name\")\n",
    "year = input(\"Please enter a number\")\n",
    "print(\"My name is \" + name + \" and I've known Meaghan for \" + str(year) + \" years.\")"
   ]
  },
  {
   "cell_type": "code",
   "execution_count": null,
   "id": "ce39425f",
   "metadata": {},
   "outputs": [],
   "source": []
  }
 ],
 "metadata": {
  "kernelspec": {
   "display_name": "Python 3",
   "language": "python",
   "name": "python3"
  },
  "language_info": {
   "codemirror_mode": {
    "name": "ipython",
    "version": 3
   },
   "file_extension": ".py",
   "mimetype": "text/x-python",
   "name": "python",
   "nbconvert_exporter": "python",
   "pygments_lexer": "ipython3",
   "version": "3.8.10"
  }
 },
 "nbformat": 4,
 "nbformat_minor": 5
}
